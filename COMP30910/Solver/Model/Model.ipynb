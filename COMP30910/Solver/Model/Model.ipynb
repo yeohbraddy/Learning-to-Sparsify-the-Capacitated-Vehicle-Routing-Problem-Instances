{
 "cells": [
  {
   "cell_type": "code",
   "execution_count": 1,
   "metadata": {},
   "outputs": [],
   "source": [
    "import pandas as pd\n",
    "from sklearn.naive_bayes import GaussianNB\n",
    "from sklearn.model_selection import train_test_split\n",
    "from sklearn.metrics import confusion_matrix, accuracy_score\n",
    "from sklearn.feature_selection import mutual_info_classif\n",
    "from sklearn.preprocessing import MinMaxScaler "
   ]
  },
  {
   "cell_type": "code",
   "execution_count": 2,
   "metadata": {},
   "outputs": [
    {
     "data": {
      "text/html": [
       "<div>\n",
       "<style scoped>\n",
       "    .dataframe tbody tr th:only-of-type {\n",
       "        vertical-align: middle;\n",
       "    }\n",
       "\n",
       "    .dataframe tbody tr th {\n",
       "        vertical-align: top;\n",
       "    }\n",
       "\n",
       "    .dataframe thead th {\n",
       "        text-align: right;\n",
       "    }\n",
       "</style>\n",
       "<table border=\"1\" class=\"dataframe\">\n",
       "  <thead>\n",
       "    <tr style=\"text-align: right;\">\n",
       "      <th></th>\n",
       "      <th>U_NODE_ID</th>\n",
       "      <th>V_NODE_ID</th>\n",
       "      <th>U_X</th>\n",
       "      <th>U_Y</th>\n",
       "      <th>V_X</th>\n",
       "      <th>V_Y</th>\n",
       "      <th>IS_DEPOT</th>\n",
       "      <th>IS_OPTIMAL_EDGE</th>\n",
       "      <th>EDGE_WEIGHT</th>\n",
       "      <th>GLOBAL_RANK</th>\n",
       "      <th>...</th>\n",
       "      <th>U_NODE_DEGREE</th>\n",
       "      <th>V_NODE_DEGREE</th>\n",
       "      <th>AVERAGE_NODE_DEGREE</th>\n",
       "      <th>U_NODE_CLUSTERING</th>\n",
       "      <th>V_NODE_CLUSTERING</th>\n",
       "      <th>AVERAGE_NODE_CLUSTERING</th>\n",
       "      <th>IS_MST_EDGE</th>\n",
       "      <th>MST_U_DEGREE</th>\n",
       "      <th>MST_V_DEGREE</th>\n",
       "      <th>MST_WEIGHT</th>\n",
       "    </tr>\n",
       "  </thead>\n",
       "  <tbody>\n",
       "    <tr>\n",
       "      <th>0</th>\n",
       "      <td>1</td>\n",
       "      <td>2</td>\n",
       "      <td>82</td>\n",
       "      <td>76</td>\n",
       "      <td>96</td>\n",
       "      <td>44</td>\n",
       "      <td>1</td>\n",
       "      <td>0</td>\n",
       "      <td>34.928498</td>\n",
       "      <td>352</td>\n",
       "      <td>...</td>\n",
       "      <td>31</td>\n",
       "      <td>31</td>\n",
       "      <td>31.0</td>\n",
       "      <td>1.0</td>\n",
       "      <td>1.0</td>\n",
       "      <td>1.0</td>\n",
       "      <td>1</td>\n",
       "      <td>31</td>\n",
       "      <td>1</td>\n",
       "      <td>34.928498</td>\n",
       "    </tr>\n",
       "    <tr>\n",
       "      <th>1</th>\n",
       "      <td>1</td>\n",
       "      <td>3</td>\n",
       "      <td>82</td>\n",
       "      <td>76</td>\n",
       "      <td>50</td>\n",
       "      <td>5</td>\n",
       "      <td>1</td>\n",
       "      <td>0</td>\n",
       "      <td>77.878110</td>\n",
       "      <td>136</td>\n",
       "      <td>...</td>\n",
       "      <td>31</td>\n",
       "      <td>31</td>\n",
       "      <td>31.0</td>\n",
       "      <td>1.0</td>\n",
       "      <td>1.0</td>\n",
       "      <td>1.0</td>\n",
       "      <td>1</td>\n",
       "      <td>31</td>\n",
       "      <td>1</td>\n",
       "      <td>77.878110</td>\n",
       "    </tr>\n",
       "    <tr>\n",
       "      <th>2</th>\n",
       "      <td>1</td>\n",
       "      <td>4</td>\n",
       "      <td>82</td>\n",
       "      <td>76</td>\n",
       "      <td>49</td>\n",
       "      <td>8</td>\n",
       "      <td>1</td>\n",
       "      <td>0</td>\n",
       "      <td>75.584390</td>\n",
       "      <td>148</td>\n",
       "      <td>...</td>\n",
       "      <td>31</td>\n",
       "      <td>31</td>\n",
       "      <td>31.0</td>\n",
       "      <td>1.0</td>\n",
       "      <td>1.0</td>\n",
       "      <td>1.0</td>\n",
       "      <td>1</td>\n",
       "      <td>31</td>\n",
       "      <td>1</td>\n",
       "      <td>75.584390</td>\n",
       "    </tr>\n",
       "    <tr>\n",
       "      <th>3</th>\n",
       "      <td>1</td>\n",
       "      <td>5</td>\n",
       "      <td>82</td>\n",
       "      <td>76</td>\n",
       "      <td>13</td>\n",
       "      <td>7</td>\n",
       "      <td>1</td>\n",
       "      <td>0</td>\n",
       "      <td>97.580736</td>\n",
       "      <td>37</td>\n",
       "      <td>...</td>\n",
       "      <td>31</td>\n",
       "      <td>31</td>\n",
       "      <td>31.0</td>\n",
       "      <td>1.0</td>\n",
       "      <td>1.0</td>\n",
       "      <td>1.0</td>\n",
       "      <td>1</td>\n",
       "      <td>31</td>\n",
       "      <td>1</td>\n",
       "      <td>97.580736</td>\n",
       "    </tr>\n",
       "    <tr>\n",
       "      <th>4</th>\n",
       "      <td>1</td>\n",
       "      <td>6</td>\n",
       "      <td>82</td>\n",
       "      <td>76</td>\n",
       "      <td>29</td>\n",
       "      <td>89</td>\n",
       "      <td>1</td>\n",
       "      <td>1</td>\n",
       "      <td>54.571055</td>\n",
       "      <td>261</td>\n",
       "      <td>...</td>\n",
       "      <td>31</td>\n",
       "      <td>31</td>\n",
       "      <td>31.0</td>\n",
       "      <td>1.0</td>\n",
       "      <td>1.0</td>\n",
       "      <td>1.0</td>\n",
       "      <td>1</td>\n",
       "      <td>31</td>\n",
       "      <td>1</td>\n",
       "      <td>54.571055</td>\n",
       "    </tr>\n",
       "    <tr>\n",
       "      <th>...</th>\n",
       "      <td>...</td>\n",
       "      <td>...</td>\n",
       "      <td>...</td>\n",
       "      <td>...</td>\n",
       "      <td>...</td>\n",
       "      <td>...</td>\n",
       "      <td>...</td>\n",
       "      <td>...</td>\n",
       "      <td>...</td>\n",
       "      <td>...</td>\n",
       "      <td>...</td>\n",
       "      <td>...</td>\n",
       "      <td>...</td>\n",
       "      <td>...</td>\n",
       "      <td>...</td>\n",
       "      <td>...</td>\n",
       "      <td>...</td>\n",
       "      <td>...</td>\n",
       "      <td>...</td>\n",
       "      <td>...</td>\n",
       "      <td>...</td>\n",
       "    </tr>\n",
       "    <tr>\n",
       "      <th>46904</th>\n",
       "      <td>57</td>\n",
       "      <td>59</td>\n",
       "      <td>6</td>\n",
       "      <td>25</td>\n",
       "      <td>40</td>\n",
       "      <td>60</td>\n",
       "      <td>0</td>\n",
       "      <td>0</td>\n",
       "      <td>48.795492</td>\n",
       "      <td>204</td>\n",
       "      <td>...</td>\n",
       "      <td>59</td>\n",
       "      <td>59</td>\n",
       "      <td>59.0</td>\n",
       "      <td>1.0</td>\n",
       "      <td>1.0</td>\n",
       "      <td>1.0</td>\n",
       "      <td>0</td>\n",
       "      <td>1</td>\n",
       "      <td>1</td>\n",
       "      <td>48.795492</td>\n",
       "    </tr>\n",
       "    <tr>\n",
       "      <th>46905</th>\n",
       "      <td>57</td>\n",
       "      <td>60</td>\n",
       "      <td>6</td>\n",
       "      <td>25</td>\n",
       "      <td>50</td>\n",
       "      <td>4</td>\n",
       "      <td>0</td>\n",
       "      <td>0</td>\n",
       "      <td>48.754487</td>\n",
       "      <td>205</td>\n",
       "      <td>...</td>\n",
       "      <td>59</td>\n",
       "      <td>59</td>\n",
       "      <td>59.0</td>\n",
       "      <td>1.0</td>\n",
       "      <td>1.0</td>\n",
       "      <td>1.0</td>\n",
       "      <td>0</td>\n",
       "      <td>1</td>\n",
       "      <td>1</td>\n",
       "      <td>48.754487</td>\n",
       "    </tr>\n",
       "    <tr>\n",
       "      <th>46906</th>\n",
       "      <td>58</td>\n",
       "      <td>59</td>\n",
       "      <td>65</td>\n",
       "      <td>27</td>\n",
       "      <td>40</td>\n",
       "      <td>60</td>\n",
       "      <td>0</td>\n",
       "      <td>0</td>\n",
       "      <td>41.400483</td>\n",
       "      <td>333</td>\n",
       "      <td>...</td>\n",
       "      <td>59</td>\n",
       "      <td>59</td>\n",
       "      <td>59.0</td>\n",
       "      <td>1.0</td>\n",
       "      <td>1.0</td>\n",
       "      <td>1.0</td>\n",
       "      <td>0</td>\n",
       "      <td>1</td>\n",
       "      <td>1</td>\n",
       "      <td>41.400483</td>\n",
       "    </tr>\n",
       "    <tr>\n",
       "      <th>46907</th>\n",
       "      <td>58</td>\n",
       "      <td>60</td>\n",
       "      <td>65</td>\n",
       "      <td>27</td>\n",
       "      <td>50</td>\n",
       "      <td>4</td>\n",
       "      <td>0</td>\n",
       "      <td>0</td>\n",
       "      <td>27.459060</td>\n",
       "      <td>557</td>\n",
       "      <td>...</td>\n",
       "      <td>59</td>\n",
       "      <td>59</td>\n",
       "      <td>59.0</td>\n",
       "      <td>1.0</td>\n",
       "      <td>1.0</td>\n",
       "      <td>1.0</td>\n",
       "      <td>0</td>\n",
       "      <td>1</td>\n",
       "      <td>1</td>\n",
       "      <td>27.459060</td>\n",
       "    </tr>\n",
       "    <tr>\n",
       "      <th>46908</th>\n",
       "      <td>59</td>\n",
       "      <td>60</td>\n",
       "      <td>40</td>\n",
       "      <td>60</td>\n",
       "      <td>50</td>\n",
       "      <td>4</td>\n",
       "      <td>0</td>\n",
       "      <td>0</td>\n",
       "      <td>56.885851</td>\n",
       "      <td>89</td>\n",
       "      <td>...</td>\n",
       "      <td>59</td>\n",
       "      <td>59</td>\n",
       "      <td>59.0</td>\n",
       "      <td>1.0</td>\n",
       "      <td>1.0</td>\n",
       "      <td>1.0</td>\n",
       "      <td>0</td>\n",
       "      <td>1</td>\n",
       "      <td>1</td>\n",
       "      <td>56.885851</td>\n",
       "    </tr>\n",
       "  </tbody>\n",
       "</table>\n",
       "<p>46909 rows × 22 columns</p>\n",
       "</div>"
      ],
      "text/plain": [
       "       U_NODE_ID  V_NODE_ID  U_X  U_Y  V_X  V_Y  IS_DEPOT  IS_OPTIMAL_EDGE  \\\n",
       "0              1          2   82   76   96   44         1                0   \n",
       "1              1          3   82   76   50    5         1                0   \n",
       "2              1          4   82   76   49    8         1                0   \n",
       "3              1          5   82   76   13    7         1                0   \n",
       "4              1          6   82   76   29   89         1                1   \n",
       "...          ...        ...  ...  ...  ...  ...       ...              ...   \n",
       "46904         57         59    6   25   40   60         0                0   \n",
       "46905         57         60    6   25   50    4         0                0   \n",
       "46906         58         59   65   27   40   60         0                0   \n",
       "46907         58         60   65   27   50    4         0                0   \n",
       "46908         59         60   40   60   50    4         0                0   \n",
       "\n",
       "       EDGE_WEIGHT  GLOBAL_RANK  ...  U_NODE_DEGREE  V_NODE_DEGREE  \\\n",
       "0        34.928498          352  ...             31             31   \n",
       "1        77.878110          136  ...             31             31   \n",
       "2        75.584390          148  ...             31             31   \n",
       "3        97.580736           37  ...             31             31   \n",
       "4        54.571055          261  ...             31             31   \n",
       "...            ...          ...  ...            ...            ...   \n",
       "46904    48.795492          204  ...             59             59   \n",
       "46905    48.754487          205  ...             59             59   \n",
       "46906    41.400483          333  ...             59             59   \n",
       "46907    27.459060          557  ...             59             59   \n",
       "46908    56.885851           89  ...             59             59   \n",
       "\n",
       "       AVERAGE_NODE_DEGREE  U_NODE_CLUSTERING  V_NODE_CLUSTERING  \\\n",
       "0                     31.0                1.0                1.0   \n",
       "1                     31.0                1.0                1.0   \n",
       "2                     31.0                1.0                1.0   \n",
       "3                     31.0                1.0                1.0   \n",
       "4                     31.0                1.0                1.0   \n",
       "...                    ...                ...                ...   \n",
       "46904                 59.0                1.0                1.0   \n",
       "46905                 59.0                1.0                1.0   \n",
       "46906                 59.0                1.0                1.0   \n",
       "46907                 59.0                1.0                1.0   \n",
       "46908                 59.0                1.0                1.0   \n",
       "\n",
       "       AVERAGE_NODE_CLUSTERING  IS_MST_EDGE  MST_U_DEGREE  MST_V_DEGREE  \\\n",
       "0                          1.0            1            31             1   \n",
       "1                          1.0            1            31             1   \n",
       "2                          1.0            1            31             1   \n",
       "3                          1.0            1            31             1   \n",
       "4                          1.0            1            31             1   \n",
       "...                        ...          ...           ...           ...   \n",
       "46904                      1.0            0             1             1   \n",
       "46905                      1.0            0             1             1   \n",
       "46906                      1.0            0             1             1   \n",
       "46907                      1.0            0             1             1   \n",
       "46908                      1.0            0             1             1   \n",
       "\n",
       "       MST_WEIGHT  \n",
       "0       34.928498  \n",
       "1       77.878110  \n",
       "2       75.584390  \n",
       "3       97.580736  \n",
       "4       54.571055  \n",
       "...           ...  \n",
       "46904   48.795492  \n",
       "46905   48.754487  \n",
       "46906   41.400483  \n",
       "46907   27.459060  \n",
       "46908   56.885851  \n",
       "\n",
       "[46909 rows x 22 columns]"
      ]
     },
     "execution_count": 2,
     "metadata": {},
     "output_type": "execute_result"
    }
   ],
   "source": [
    "cvrp = pd.read_csv('../Data/data.csv', index_col=0)\n",
    "cvrp"
   ]
  },
  {
   "cell_type": "code",
   "execution_count": 3,
   "metadata": {},
   "outputs": [],
   "source": [
    "cvrp.pop(\"IS_DEPOT\")\n",
    "cvrp.pop(\"U_NODE_ID\")\n",
    "cvrp.pop(\"V_NODE_ID\")\n",
    "cvrp.pop(\"U_Y\")\n",
    "cvrp.pop(\"U_X\")\n",
    "cvrp.pop(\"V_X\")\n",
    "cvrp.pop(\"V_Y\")\n",
    "y = cvrp.pop('IS_OPTIMAL_EDGE').values # Set this as the y (target)\n",
    "X = cvrp.values"
   ]
  },
  {
   "cell_type": "code",
   "execution_count": 4,
   "metadata": {},
   "outputs": [
    {
     "data": {
      "text/plain": [
       "(28145, 14)"
      ]
     },
     "execution_count": 4,
     "metadata": {},
     "output_type": "execute_result"
    }
   ],
   "source": [
    "X_train, X_test, y_train, y_test = train_test_split(X, y, test_size=0.40)\n",
    "\n",
    "scaler = MinMaxScaler()\n",
    "normalised_X = scaler.fit_transform(X_train)\n",
    "normalised_X.shape\n"
   ]
  },
  {
   "cell_type": "code",
   "execution_count": 5,
   "metadata": {},
   "outputs": [
    {
     "data": {
      "text/html": [
       "<div>\n",
       "<style scoped>\n",
       "    .dataframe tbody tr th:only-of-type {\n",
       "        vertical-align: middle;\n",
       "    }\n",
       "\n",
       "    .dataframe tbody tr th {\n",
       "        vertical-align: top;\n",
       "    }\n",
       "\n",
       "    .dataframe thead th {\n",
       "        text-align: right;\n",
       "    }\n",
       "</style>\n",
       "<table border=\"1\" class=\"dataframe\">\n",
       "  <thead>\n",
       "    <tr style=\"text-align: right;\">\n",
       "      <th></th>\n",
       "      <th>I-Gain</th>\n",
       "    </tr>\n",
       "  </thead>\n",
       "  <tbody>\n",
       "    <tr>\n",
       "      <th>V_NODE_LOCAL_EDGE_RANK</th>\n",
       "      <td>0.022033</td>\n",
       "    </tr>\n",
       "    <tr>\n",
       "      <th>U_NODE_LOCAL_EDGE_RANK</th>\n",
       "      <td>0.020324</td>\n",
       "    </tr>\n",
       "    <tr>\n",
       "      <th>MST_WEIGHT</th>\n",
       "      <td>0.019465</td>\n",
       "    </tr>\n",
       "    <tr>\n",
       "      <th>EDGE_WEIGHT</th>\n",
       "      <td>0.018005</td>\n",
       "    </tr>\n",
       "    <tr>\n",
       "      <th>MST_U_DEGREE</th>\n",
       "      <td>0.015588</td>\n",
       "    </tr>\n",
       "    <tr>\n",
       "      <th>IS_MST_EDGE</th>\n",
       "      <td>0.015044</td>\n",
       "    </tr>\n",
       "    <tr>\n",
       "      <th>GLOBAL_RANK</th>\n",
       "      <td>0.005996</td>\n",
       "    </tr>\n",
       "    <tr>\n",
       "      <th>V_NODE_DEGREE</th>\n",
       "      <td>0.005922</td>\n",
       "    </tr>\n",
       "    <tr>\n",
       "      <th>U_NODE_DEGREE</th>\n",
       "      <td>0.005151</td>\n",
       "    </tr>\n",
       "    <tr>\n",
       "      <th>AVERAGE_NODE_DEGREE</th>\n",
       "      <td>0.004197</td>\n",
       "    </tr>\n",
       "    <tr>\n",
       "      <th>MST_V_DEGREE</th>\n",
       "      <td>0.001529</td>\n",
       "    </tr>\n",
       "    <tr>\n",
       "      <th>AVERAGE_NODE_CLUSTERING</th>\n",
       "      <td>0.000526</td>\n",
       "    </tr>\n",
       "    <tr>\n",
       "      <th>V_NODE_CLUSTERING</th>\n",
       "      <td>0.000276</td>\n",
       "    </tr>\n",
       "    <tr>\n",
       "      <th>U_NODE_CLUSTERING</th>\n",
       "      <td>0.000000</td>\n",
       "    </tr>\n",
       "  </tbody>\n",
       "</table>\n",
       "</div>"
      ],
      "text/plain": [
       "                           I-Gain\n",
       "V_NODE_LOCAL_EDGE_RANK   0.022033\n",
       "U_NODE_LOCAL_EDGE_RANK   0.020324\n",
       "MST_WEIGHT               0.019465\n",
       "EDGE_WEIGHT              0.018005\n",
       "MST_U_DEGREE             0.015588\n",
       "IS_MST_EDGE              0.015044\n",
       "GLOBAL_RANK              0.005996\n",
       "V_NODE_DEGREE            0.005922\n",
       "U_NODE_DEGREE            0.005151\n",
       "AVERAGE_NODE_DEGREE      0.004197\n",
       "MST_V_DEGREE             0.001529\n",
       "AVERAGE_NODE_CLUSTERING  0.000526\n",
       "V_NODE_CLUSTERING        0.000276\n",
       "U_NODE_CLUSTERING        0.000000"
      ]
     },
     "execution_count": 5,
     "metadata": {},
     "output_type": "execute_result"
    }
   ],
   "source": [
    "i_scores = mutual_info_classif(normalised_X, y_train)\n",
    "\n",
    "X_train_df = pd.DataFrame(data=normalised_X, columns=list(cvrp.columns))\n",
    "X_train_df\n",
    "\n",
    "FS_DF = pd.DataFrame(i_scores, index = X_train_df.columns, columns =['I-Gain'])\n",
    "FS_DF.sort_values(by=['I-Gain'], ascending=False, inplace=True)\n",
    "FS_DF"
   ]
  },
  {
   "cell_type": "code",
   "execution_count": 6,
   "metadata": {},
   "outputs": [
    {
     "data": {
      "text/html": [
       "<div>\n",
       "<style scoped>\n",
       "    .dataframe tbody tr th:only-of-type {\n",
       "        vertical-align: middle;\n",
       "    }\n",
       "\n",
       "    .dataframe tbody tr th {\n",
       "        vertical-align: top;\n",
       "    }\n",
       "\n",
       "    .dataframe thead th {\n",
       "        text-align: right;\n",
       "    }\n",
       "</style>\n",
       "<table border=\"1\" class=\"dataframe\">\n",
       "  <thead>\n",
       "    <tr style=\"text-align: right;\">\n",
       "      <th></th>\n",
       "      <th>I-Gain</th>\n",
       "    </tr>\n",
       "  </thead>\n",
       "  <tbody>\n",
       "    <tr>\n",
       "      <th>V_NODE_LOCAL_EDGE_RANK</th>\n",
       "      <td>0.022033</td>\n",
       "    </tr>\n",
       "    <tr>\n",
       "      <th>U_NODE_LOCAL_EDGE_RANK</th>\n",
       "      <td>0.020324</td>\n",
       "    </tr>\n",
       "    <tr>\n",
       "      <th>MST_WEIGHT</th>\n",
       "      <td>0.019465</td>\n",
       "    </tr>\n",
       "  </tbody>\n",
       "</table>\n",
       "</div>"
      ],
      "text/plain": [
       "                          I-Gain\n",
       "V_NODE_LOCAL_EDGE_RANK  0.022033\n",
       "U_NODE_LOCAL_EDGE_RANK  0.020324\n",
       "MST_WEIGHT              0.019465"
      ]
     },
     "execution_count": 6,
     "metadata": {},
     "output_type": "execute_result"
    }
   ],
   "source": [
    "from sklearn.neighbors import KNeighborsClassifier\n",
    "from sklearn.neighbors import KNeighborsClassifier\n",
    "from sklearn.model_selection import cross_val_score\n",
    "from sklearn.feature_selection import SelectKBest\n",
    "\n",
    "best_n_features = 1\n",
    "best_acc = 0\n",
    "best_k = 1\n",
    "best_score = []\n",
    "\n",
    "for k in range(1, 10):\n",
    "    scores = []\n",
    "    model = KNeighborsClassifier(n_neighbors=k)\n",
    "    for up_to_index_feature in range(1, len(FS_DF.index) + 1):\n",
    "        selected_features = X_train_df[FS_DF.index[:up_to_index_feature]]\n",
    "        top_selected_features = selected_features.values\n",
    "        curr_acc = cross_val_score(model, top_selected_features, y_train, cv=10, scoring='f1_macro')[0]\n",
    "\n",
    "        scores.append(curr_acc)\n",
    "\n",
    "        if (curr_acc > best_acc):\n",
    "            best_acc = curr_acc\n",
    "            best_n_features = up_to_index_feature\n",
    "            best_k = k\n",
    "            best_score = scores\n",
    "        \n",
    "FS_DF.head(n=best_n_features)"
   ]
  },
  {
   "cell_type": "code",
   "execution_count": 7,
   "metadata": {},
   "outputs": [
    {
     "name": "stdout",
     "output_type": "stream",
     "text": [
      "(28145, 3)\n"
     ]
    }
   ],
   "source": [
    "from sklearn.metrics import accuracy_score, confusion_matrix, classification_report\n",
    "from sklearn.metrics import plot_confusion_matrix\n",
    "\n",
    "selection = SelectKBest(score_func=mutual_info_classif, k=best_n_features).fit(X_train, y_train)\n",
    "X_features = selection.transform(X_train)\n",
    "print(X_features.shape)"
   ]
  },
  {
   "cell_type": "code",
   "execution_count": 8,
   "metadata": {},
   "outputs": [
    {
     "data": {
      "text/plain": [
       "(18764, 14)"
      ]
     },
     "execution_count": 8,
     "metadata": {},
     "output_type": "execute_result"
    }
   ],
   "source": [
    "normalised_test_X = scaler.fit_transform(X_test)\n",
    "normalised_test_X.shape"
   ]
  },
  {
   "cell_type": "markdown",
   "metadata": {},
   "source": [
    "## kNN"
   ]
  },
  {
   "cell_type": "code",
   "execution_count": 9,
   "metadata": {},
   "outputs": [
    {
     "name": "stderr",
     "output_type": "stream",
     "text": [
      "c:\\users\\bigbadbraddy\\appdata\\local\\programs\\python\\python39\\lib\\site-packages\\sklearn\\metrics\\_classification.py:1245: UndefinedMetricWarning: Precision and F-score are ill-defined and being set to 0.0 in labels with no predicted samples. Use `zero_division` parameter to control this behavior.\n",
      "  _warn_prf(average, modifier, msg_start, len(result))\n",
      "c:\\users\\bigbadbraddy\\appdata\\local\\programs\\python\\python39\\lib\\site-packages\\sklearn\\metrics\\_classification.py:1245: UndefinedMetricWarning: Precision and F-score are ill-defined and being set to 0.0 in labels with no predicted samples. Use `zero_division` parameter to control this behavior.\n",
      "  _warn_prf(average, modifier, msg_start, len(result))\n",
      "c:\\users\\bigbadbraddy\\appdata\\local\\programs\\python\\python39\\lib\\site-packages\\sklearn\\metrics\\_classification.py:1245: UndefinedMetricWarning: Precision and F-score are ill-defined and being set to 0.0 in labels with no predicted samples. Use `zero_division` parameter to control this behavior.\n",
      "  _warn_prf(average, modifier, msg_start, len(result))\n"
     ]
    },
    {
     "name": "stdout",
     "output_type": "stream",
     "text": [
      "Classification report : \n",
      "               precision    recall  f1-score   support\n",
      "\n",
      "           0       0.00      0.00      0.00     18074\n",
      "           1       0.04      1.00      0.07       690\n",
      "\n",
      "    accuracy                           0.04     18764\n",
      "   macro avg       0.02      0.50      0.04     18764\n",
      "weighted avg       0.00      0.04      0.00     18764\n",
      "\n",
      "Accuracy:\n",
      "0.03677254316776807\n",
      "\n",
      "Confusion matrix:\n",
      "[[    0 18074]\n",
      " [    0   690]]\n"
     ]
    },
    {
     "data": {
      "image/png": "[encoded data removed]",
      "text/plain": [
       "<Figure size 432x288 with 2 Axes>"
      ]
     },
     "metadata": {
      "needs_background": "light"
     },
     "output_type": "display_data"
    }
   ],
   "source": [
    "model = KNeighborsClassifier(n_neighbors=best_k)\n",
    "model.fit(X_features, y_train)\n",
    "\n",
    "X_test_features = selection.transform(normalised_test_X)\n",
    "y_pred = model.predict(X_test_features)\n",
    "\n",
    "matrix = classification_report(y_test, y_pred)\n",
    "print('Classification report : \\n',matrix)\n",
    "\n",
    "print(\"Accuracy:\\n{}\".format(accuracy_score(y_test, y_pred)))\n",
    "\n",
    "plot_confusion_matrix(model, X_test_features, y_test)\n",
    "confusion = confusion_matrix(y_test, y_pred)\n",
    "print(\"\\nConfusion matrix:\\n{}\".format(confusion))"
   ]
  },
  {
   "cell_type": "markdown",
   "metadata": {},
   "source": [
    "## Naive Bayes\n",
    "\n",
    "### BernoulliNB"
   ]
  },
  {
   "cell_type": "code",
   "execution_count": 10,
   "metadata": {},
   "outputs": [
    {
     "name": "stdout",
     "output_type": "stream",
     "text": [
      "Classification report : \n",
      "               precision    recall  f1-score   support\n",
      "\n",
      "           0       0.96      1.00      0.98     18074\n",
      "           1       0.21      0.00      0.01       690\n",
      "\n",
      "    accuracy                           0.96     18764\n",
      "   macro avg       0.59      0.50      0.49     18764\n",
      "weighted avg       0.94      0.96      0.95     18764\n",
      "\n",
      "Accuracy:\n",
      "0.9628011085056492\n",
      "\n",
      "Confusion matrix:\n",
      "[[18063    11]\n",
      " [  687     3]]\n"
     ]
    },
    {
     "data": {
      "image/png": "[encoded data removed]",
      "text/plain": [
       "<Figure size 432x288 with 2 Axes>"
      ]
     },
     "metadata": {
      "needs_background": "light"
     },
     "output_type": "display_data"
    }
   ],
   "source": [
    "from sklearn.naive_bayes import BernoulliNB, GaussianNB\n",
    "\n",
    "model = BernoulliNB()\n",
    "model.fit(X_features, y_train)\n",
    "\n",
    "X_test_features = selection.transform(normalised_test_X)\n",
    "y_pred = model.predict(X_test_features)\n",
    "\n",
    "matrix = classification_report(y_test, y_pred)\n",
    "print('Classification report : \\n',matrix)\n",
    "\n",
    "print(\"Accuracy:\\n{}\".format(accuracy_score(y_test, y_pred)))\n",
    "\n",
    "plot_confusion_matrix(model, X_test_features, y_test)\n",
    "confusion = confusion_matrix(y_test, y_pred)\n",
    "print(\"\\nConfusion matrix:\\n{}\".format(confusion))"
   ]
  },
  {
   "cell_type": "markdown",
   "metadata": {},
   "source": [
    "### GaussianNB"
   ]
  },
  {
   "cell_type": "code",
   "execution_count": 11,
   "metadata": {},
   "outputs": [
    {
     "name": "stderr",
     "output_type": "stream",
     "text": [
      "c:\\users\\bigbadbraddy\\appdata\\local\\programs\\python\\python39\\lib\\site-packages\\sklearn\\metrics\\_classification.py:1245: UndefinedMetricWarning: Precision and F-score are ill-defined and being set to 0.0 in labels with no predicted samples. Use `zero_division` parameter to control this behavior.\n",
      "  _warn_prf(average, modifier, msg_start, len(result))\n",
      "c:\\users\\bigbadbraddy\\appdata\\local\\programs\\python\\python39\\lib\\site-packages\\sklearn\\metrics\\_classification.py:1245: UndefinedMetricWarning: Precision and F-score are ill-defined and being set to 0.0 in labels with no predicted samples. Use `zero_division` parameter to control this behavior.\n",
      "  _warn_prf(average, modifier, msg_start, len(result))\n",
      "c:\\users\\bigbadbraddy\\appdata\\local\\programs\\python\\python39\\lib\\site-packages\\sklearn\\metrics\\_classification.py:1245: UndefinedMetricWarning: Precision and F-score are ill-defined and being set to 0.0 in labels with no predicted samples. Use `zero_division` parameter to control this behavior.\n",
      "  _warn_prf(average, modifier, msg_start, len(result))\n"
     ]
    },
    {
     "name": "stdout",
     "output_type": "stream",
     "text": [
      "Classification report : \n",
      "               precision    recall  f1-score   support\n",
      "\n",
      "           0       0.96      1.00      0.98     18074\n",
      "           1       0.00      0.00      0.00       690\n",
      "\n",
      "    accuracy                           0.96     18764\n",
      "   macro avg       0.48      0.50      0.49     18764\n",
      "weighted avg       0.93      0.96      0.95     18764\n",
      "\n",
      "Accuracy:\n",
      "0.963227456832232\n",
      "\n",
      "Confusion matrix:\n",
      "[[18074     0]\n",
      " [  690     0]]\n"
     ]
    },
    {
     "data": {
      "image/png": "[encoded data removed]",
      "text/plain": [
       "<Figure size 432x288 with 2 Axes>"
      ]
     },
     "metadata": {
      "needs_background": "light"
     },
     "output_type": "display_data"
    }
   ],
   "source": [
    "model = GaussianNB()\n",
    "model.fit(X_features, y_train)\n",
    "\n",
    "X_test_features = selection.transform(normalised_test_X)\n",
    "y_pred = model.predict(X_test_features)\n",
    "\n",
    "matrix = classification_report(y_test, y_pred)\n",
    "print('Classification report : \\n',matrix)\n",
    "\n",
    "print(\"Accuracy:\\n{}\".format(accuracy_score(y_test, y_pred)))\n",
    "\n",
    "plot_confusion_matrix(model, X_test_features, y_test)\n",
    "confusion = confusion_matrix(y_test, y_pred)\n",
    "print(\"\\nConfusion matrix:\\n{}\".format(confusion))"
   ]
  },
  {
   "cell_type": "markdown",
   "metadata": {},
   "source": [
    "## LogisticRegression"
   ]
  },
  {
   "cell_type": "code",
   "execution_count": 12,
   "metadata": {},
   "outputs": [
    {
     "name": "stdout",
     "output_type": "stream",
     "text": [
      "Classification report : \n",
      "               precision    recall  f1-score   support\n",
      "\n",
      "           0       0.96      1.00      0.98     18074\n",
      "           1       0.00      0.00      0.00       690\n",
      "\n",
      "    accuracy                           0.96     18764\n",
      "   macro avg       0.48      0.50      0.49     18764\n",
      "weighted avg       0.93      0.96      0.95     18764\n",
      "\n",
      "Accuracy:\n",
      "0.963227456832232\n",
      "\n",
      "Confusion matrix:\n",
      "[[18074     0]\n",
      " [  690     0]]\n"
     ]
    },
    {
     "name": "stderr",
     "output_type": "stream",
     "text": [
      "c:\\users\\bigbadbraddy\\appdata\\local\\programs\\python\\python39\\lib\\site-packages\\sklearn\\metrics\\_classification.py:1245: UndefinedMetricWarning: Precision and F-score are ill-defined and being set to 0.0 in labels with no predicted samples. Use `zero_division` parameter to control this behavior.\n",
      "  _warn_prf(average, modifier, msg_start, len(result))\n",
      "c:\\users\\bigbadbraddy\\appdata\\local\\programs\\python\\python39\\lib\\site-packages\\sklearn\\metrics\\_classification.py:1245: UndefinedMetricWarning: Precision and F-score are ill-defined and being set to 0.0 in labels with no predicted samples. Use `zero_division` parameter to control this behavior.\n",
      "  _warn_prf(average, modifier, msg_start, len(result))\n",
      "c:\\users\\bigbadbraddy\\appdata\\local\\programs\\python\\python39\\lib\\site-packages\\sklearn\\metrics\\_classification.py:1245: UndefinedMetricWarning: Precision and F-score are ill-defined and being set to 0.0 in labels with no predicted samples. Use `zero_division` parameter to control this behavior.\n",
      "  _warn_prf(average, modifier, msg_start, len(result))\n"
     ]
    },
    {
     "data": {
      "image/png": "[encoded data removed]",
      "text/plain": [
       "<Figure size 432x288 with 2 Axes>"
      ]
     },
     "metadata": {
      "needs_background": "light"
     },
     "output_type": "display_data"
    }
   ],
   "source": [
    "from sklearn.linear_model import LogisticRegression\n",
    "\n",
    "model = LogisticRegression()\n",
    "model.fit(X_features, y_train)\n",
    "\n",
    "X_test_features = selection.transform(normalised_test_X)\n",
    "y_pred = model.predict(X_test_features)\n",
    "\n",
    "matrix = classification_report(y_test, y_pred)\n",
    "print('Classification report : \\n',matrix)\n",
    "\n",
    "print(\"Accuracy:\\n{}\".format(accuracy_score(y_test, y_pred)))\n",
    "\n",
    "plot_confusion_matrix(model, X_test_features, y_test)\n",
    "confusion = confusion_matrix(y_test, y_pred)\n",
    "print(\"\\nConfusion matrix:\\n{}\".format(confusion))"
   ]
  },
  {
   "cell_type": "markdown",
   "metadata": {},
   "source": [
    "## DecisionTreeClassifier"
   ]
  },
  {
   "cell_type": "code",
   "execution_count": 13,
   "metadata": {},
   "outputs": [
    {
     "name": "stdout",
     "output_type": "stream",
     "text": [
      "Classification report : \n",
      "               precision    recall  f1-score   support\n",
      "\n",
      "           0       0.96      0.96      0.96     18074\n",
      "           1       0.01      0.01      0.01       690\n",
      "\n",
      "    accuracy                           0.92     18764\n",
      "   macro avg       0.49      0.49      0.49     18764\n",
      "weighted avg       0.93      0.92      0.92     18764\n",
      "\n",
      "Accuracy:\n",
      "0.9219782562353442\n",
      "\n",
      "Confusion matrix:\n",
      "[[17290   784]\n",
      " [  680    10]]\n"
     ]
    },
    {
     "data": {
      "image/png": "[encoded data removed]",
      "text/plain": [
       "<Figure size 432x288 with 2 Axes>"
      ]
     },
     "metadata": {
      "needs_background": "light"
     },
     "output_type": "display_data"
    }
   ],
   "source": [
    "from sklearn.tree import DecisionTreeClassifier\n",
    "\n",
    "model = DecisionTreeClassifier()\n",
    "model.fit(X_features, y_train)\n",
    "\n",
    "X_test_features = selection.transform(normalised_test_X)\n",
    "y_pred = model.predict(X_test_features)\n",
    "\n",
    "matrix = classification_report(y_test, y_pred)\n",
    "print('Classification report : \\n',matrix)\n",
    "\n",
    "print(\"Accuracy:\\n{}\".format(accuracy_score(y_test, y_pred)))\n",
    "\n",
    "plot_confusion_matrix(model, X_test_features, y_test)\n",
    "confusion = confusion_matrix(y_test, y_pred)\n",
    "print(\"\\nConfusion matrix:\\n{}\".format(confusion))"
   ]
  },
  {
   "cell_type": "markdown",
   "metadata": {},
   "source": [
    "## SVC"
   ]
  },
  {
   "cell_type": "code",
   "execution_count": 14,
   "metadata": {},
   "outputs": [
    {
     "name": "stderr",
     "output_type": "stream",
     "text": [
      "c:\\users\\bigbadbraddy\\appdata\\local\\programs\\python\\python39\\lib\\site-packages\\sklearn\\metrics\\_classification.py:1245: UndefinedMetricWarning: Precision and F-score are ill-defined and being set to 0.0 in labels with no predicted samples. Use `zero_division` parameter to control this behavior.\n",
      "  _warn_prf(average, modifier, msg_start, len(result))\n",
      "c:\\users\\bigbadbraddy\\appdata\\local\\programs\\python\\python39\\lib\\site-packages\\sklearn\\metrics\\_classification.py:1245: UndefinedMetricWarning: Precision and F-score are ill-defined and being set to 0.0 in labels with no predicted samples. Use `zero_division` parameter to control this behavior.\n",
      "  _warn_prf(average, modifier, msg_start, len(result))\n",
      "c:\\users\\bigbadbraddy\\appdata\\local\\programs\\python\\python39\\lib\\site-packages\\sklearn\\metrics\\_classification.py:1245: UndefinedMetricWarning: Precision and F-score are ill-defined and being set to 0.0 in labels with no predicted samples. Use `zero_division` parameter to control this behavior.\n",
      "  _warn_prf(average, modifier, msg_start, len(result))\n"
     ]
    },
    {
     "name": "stdout",
     "output_type": "stream",
     "text": [
      "Classification report : \n",
      "               precision    recall  f1-score   support\n",
      "\n",
      "           0       0.96      1.00      0.98     18074\n",
      "           1       0.00      0.00      0.00       690\n",
      "\n",
      "    accuracy                           0.96     18764\n",
      "   macro avg       0.48      0.50      0.49     18764\n",
      "weighted avg       0.93      0.96      0.95     18764\n",
      "\n",
      "Accuracy:\n",
      "0.963227456832232\n",
      "\n",
      "Confusion matrix:\n",
      "[[18074     0]\n",
      " [  690     0]]\n"
     ]
    },
    {
     "data": {
      "image/png": "[encoded data removed]",
      "text/plain": [
       "<Figure size 432x288 with 2 Axes>"
      ]
     },
     "metadata": {
      "needs_background": "light"
     },
     "output_type": "display_data"
    }
   ],
   "source": [
    "from sklearn.svm import SVC\n",
    "\n",
    "model = SVC()\n",
    "model.fit(X_features, y_train)\n",
    "\n",
    "X_test_features = selection.transform(normalised_test_X)\n",
    "y_pred = model.predict(X_test_features)\n",
    "\n",
    "matrix = classification_report(y_test, y_pred)\n",
    "print('Classification report : \\n',matrix)\n",
    "\n",
    "print(\"Accuracy:\\n{}\".format(accuracy_score(y_test, y_pred)))\n",
    "\n",
    "plot_confusion_matrix(model, X_test_features, y_test)\n",
    "confusion = confusion_matrix(y_test, y_pred)\n",
    "print(\"\\nConfusion matrix:\\n{}\".format(confusion))"
   ]
  },
  {
   "cell_type": "code",
   "execution_count": null,
   "metadata": {},
   "outputs": [],
   "source": []
  }
 ],
 "metadata": {
  "kernelspec": {
   "display_name": "Python 3",
   "language": "python",
   "name": "python3"
  },
  "language_info": {
   "codemirror_mode": {
    "name": "ipython",
    "version": 3
   },
   "file_extension": ".py",
   "mimetype": "text/x-python",
   "name": "python",
   "nbconvert_exporter": "python",
   "pygments_lexer": "ipython3",
   "version": "3.9.1"
  }
 },
 "nbformat": 4,
 "nbformat_minor": 4
}
