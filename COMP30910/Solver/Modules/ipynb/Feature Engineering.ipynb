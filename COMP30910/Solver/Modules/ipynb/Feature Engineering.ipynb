{
 "cells": [
  {
   "cell_type": "markdown",
   "metadata": {},
   "source": [
    "## Imports"
   ]
  },
  {
   "cell_type": "markdown",
   "metadata": {},
   "source": [
    "### Python numerical modules"
   ]
  },
  {
   "cell_type": "code",
   "execution_count": 1,
   "metadata": {},
   "outputs": [],
   "source": [
    "import pandas as pd"
   ]
  },
  {
   "cell_type": "markdown",
   "metadata": {},
   "source": [
    "### Python"
   ]
  },
  {
   "cell_type": "code",
   "execution_count": 7,
   "metadata": {},
   "outputs": [
    {
     "name": "stdout",
     "output_type": "stream",
     "text": [
      "C:\\Users\\BigBadBraddy\\Desktop\\UCD\\FYP\\fyp-braddy\\COMP30910\\Solver\\Modules\n"
     ]
    }
   ],
   "source": [
    "import re\n",
    "import sys\n",
    "import os\n",
    "\n",
    "from linecache import getline\n",
    "from pathlib import Path\n",
    "\n",
    "sys.path.append(str(Path(os.getcwd()).parent) + '\\py')\n"
   ]
  },
  {
   "cell_type": "markdown",
   "metadata": {},
   "source": [
    "### Custom modules"
   ]
  },
  {
   "cell_type": "code",
   "execution_count": 8,
   "metadata": {},
   "outputs": [],
   "source": [
    "import Clustering as cg, \\\n",
    "       Constants as c, \\\n",
    "       Degree as d, \\\n",
    "       FileParser as fp, \\\n",
    "       GlobalEdgeRank as ger, \\\n",
    "       LocalEdgeRank as ler, \\\n",
    "       Graph as g, \\\n",
    "       MinimumSpanningTree as mst, \\\n",
    "       Solver as solver, \\\n",
    "       LPRelaxation as lpr, \\\n",
    "       Ratio as r, \\\n",
    "       ReducedCost as rc"
   ]
  },
  {
   "cell_type": "markdown",
   "metadata": {},
   "source": [
    "### Gurobi"
   ]
  },
  {
   "cell_type": "code",
   "execution_count": null,
   "metadata": {},
   "outputs": [],
   "source": [
    "from gurobipy import Model, GRB, quicksum"
   ]
  },
  {
   "cell_type": "markdown",
   "metadata": {},
   "source": [
    "## Script to perform feature computation on the instances"
   ]
  },
  {
   "cell_type": "code",
   "execution_count": null,
   "metadata": {},
   "outputs": [],
   "source": [
    "from os import listdir\n",
    "from os.path import isfile, join\n",
    "\n",
    "base_path = \"../Instances/\"\n",
    "instances_path = base_path + \"Instances/\"\n",
    "solutions_path = base_path + \"Solutions/\"\n",
    "instances_prune_path = base_path + \"Instances - Prune/\"\n",
    "solutions_prune_path = base_path + \"Solutions - Prune/\"\n",
    "\n",
    "instances_files = [f for f in listdir(instances_path) if isfile(join(instances_path, f))]\n",
    "solutions_files = [f for f in listdir(solutions_path) if isfile(join(solutions_path, f))]\n",
    "instances_prune_files = [f for f in listdir(instances_prune_path) if isfile(join(instances_prune_path, f))]\n",
    "solutions_prune_files = [f for f in listdir(solutions_prune_path) if isfile(join(solutions_prune_path, f))]"
   ]
  },
  {
   "cell_type": "code",
   "execution_count": null,
   "metadata": {},
   "outputs": [],
   "source": [
    "df = pd.DataFrame(columns = c.column_names)"
   ]
  },
  {
   "cell_type": "markdown",
   "metadata": {},
   "source": [
    "### Q = capacity\n",
    "### q = demand\n",
    "### p = number of vehicles"
   ]
  },
  {
   "cell_type": "code",
   "execution_count": null,
   "metadata": {
    "scrolled": true
   },
   "outputs": [],
   "source": [
    "is_prune = True\n",
    "\n",
    "instances = instances_prune_files if is_prune else instances_files\n",
    "solutions = solutions_prune_files if is_prune else solutions_files\n",
    "\n",
    "i_path = instances_prune_path if is_prune else instances_path\n",
    "s_path = solutions_prune_path if is_prune else solutions_path\n",
    "\n",
    "for index in range(0, len(instances)):\n",
    "    \n",
    "    instance_file = instances[index]\n",
    "    \n",
    "    xc, yc, coords, q, Q, p, n, coords_node_id_dict = fp.read_instance(i_path + instance_file) \n",
    "    \n",
    "    routes = fp.read_solution(s_path + solutions[index])\n",
    "    \n",
    "    lp_relaxation, reduced_cost, active_arcs, objective_value = solver.solve(i_path + instance_file, False, False)\n",
    "    \n",
    "    edges_df, dict_global_edge_rank, incidence_matrix = g.create_edges_df(coords, routes, instance_file, q, Q, p, n)\n",
    "\n",
    "    G = g.build_graph(edges_df)\n",
    "    degree = d.Degree(G, n)\n",
    "    clustering = cg.Clustering(G, n)\n",
    "    globalEdgeRank = ger.GlobalEdgeRank(dict_global_edge_rank, n)\n",
    "    localEdgeRank = ler.LocalEdgeRank(incidence_matrix, n)\n",
    "    MST = mst.MinimumSpanningTree(G, n)\n",
    "    LPR = lpr.LPRelaxation(lp_relaxation, n)\n",
    "    ratio = r.Ratio(q, Q, n)\n",
    "    RC = rc.ReducedCost(reduced_cost, n)\n",
    "    \n",
    "    for index, row in edges_df.iterrows():\n",
    "        node_u, node_v = row[c.U_NODE_ID], row[c.V_NODE_ID]\n",
    "        weight = row[c.EDGE_WEIGHT]\n",
    "        \n",
    "        degree.add_degrees(node_u, node_v)\n",
    "        globalEdgeRank.add_ranking(weight)\n",
    "        localEdgeRank.add_rankings(node_u, node_v)\n",
    "        MST.add_mst_features(node_u, node_v, weight)\n",
    "        LPR.add_relaxation(node_u, node_v)\n",
    "        ratio.add_ratios(node_u, node_v)\n",
    "        RC.add_reduced_cost(node_u, node_v)\n",
    "\n",
    "    edgesDF = degree.add_to_df(edges_df)\n",
    "    edgesDF = globalEdgeRank.add_to_df(edges_df)\n",
    "    edgesDF = localEdgeRank.add_to_df(edges_df)\n",
    "    edgesDF = MST.add_to_df(edges_df)\n",
    "    edgesDF = LPR.add_to_df(edges_df)\n",
    "    edgesDF = ratio.add_to_df(edges_df)\n",
    "    edgesDF = RC.add_to_df(edges_df)\n",
    "        \n",
    "    frames = [df, edges_df]\n",
    "    df = pd.concat(frames, ignore_index=True)"
   ]
  },
  {
   "cell_type": "code",
   "execution_count": null,
   "metadata": {},
   "outputs": [],
   "source": [
    "if is_prune:\n",
    "    df.to_csv(r'../Data/data_prune.csv', index = True)\n",
    "else:\n",
    "    df.to_csv(r'../Data/data.csv', index = True)"
   ]
  },
  {
   "cell_type": "code",
   "execution_count": null,
   "metadata": {},
   "outputs": [],
   "source": []
  }
 ],
 "metadata": {
  "kernelspec": {
   "display_name": "Python 3",
   "language": "python",
   "name": "python3"
  },
  "language_info": {
   "codemirror_mode": {
    "name": "ipython",
    "version": 3
   },
   "file_extension": ".py",
   "mimetype": "text/x-python",
   "name": "python",
   "nbconvert_exporter": "python",
   "pygments_lexer": "ipython3",
   "version": "3.9.1"
  }
 },
 "nbformat": 4,
 "nbformat_minor": 4
}
