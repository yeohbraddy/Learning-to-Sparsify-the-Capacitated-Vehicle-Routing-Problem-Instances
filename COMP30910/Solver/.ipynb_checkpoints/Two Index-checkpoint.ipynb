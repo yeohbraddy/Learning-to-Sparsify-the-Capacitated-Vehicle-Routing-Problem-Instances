{
 "cells": [
  {
   "cell_type": "code",
   "execution_count": 1,
   "metadata": {},
   "outputs": [],
   "source": [
    "import numpy as np\n",
    "import matplotlib.pyplot as plt\n",
    "import re\n",
    "from linecache import getline\n",
    "from gurobipy import Model, GRB, quicksum"
   ]
  },
  {
   "cell_type": "code",
   "execution_count": 2,
   "metadata": {},
   "outputs": [],
   "source": [
    "def parseNumVehicles(line):\n",
    "    x = re.findall(r\"No of trucks: [0-9]\", line)\n",
    "    return int(x[0][-1])\n",
    "\n",
    "def parseForNum(line):\n",
    "    x = re.findall(r\"[0-9]+\", line)\n",
    "    return int(x[0])\n",
    "\n",
    "def parseCoords(line):\n",
    "    x = line.split()\n",
    "    return [int(x[1]), int(x[2])]\n",
    "\n",
    "def parseDemand(line):\n",
    "    x = line.split()\n",
    "    return [int(x[0]), int(x[1])]"
   ]
  },
  {
   "cell_type": "code",
   "execution_count": 3,
   "metadata": {},
   "outputs": [
    {
     "name": "stdout",
     "output_type": "stream",
     "text": [
      "\n"
     ]
    }
   ],
   "source": [
    "COORD_FLAG = False\n",
    "DEMAND_FLAG = False\n",
    "xc = []\n",
    "yc = []\n",
    "coords = []\n",
    "q = {}\n",
    "    \n",
    "fh = open(\"E-n23-k3.txt\",'r')\n",
    "for i,line in enumerate(fh):\n",
    "    if \"CAPACITY\" in line:\n",
    "        Q = parseForNum(line)\n",
    "    elif \"COMMENT\" in line:\n",
    "        p = parseNumVehicles(line)\n",
    "    elif \"DIMENSION\" in line:\n",
    "        n = int(parseForNum(line)) - 1 # number of clients\n",
    "    elif \"NODE_COORD_SECTION\" in line:\n",
    "        COORD_FLAG = True\n",
    "    elif \"DEMAND_SECTION\" in line:\n",
    "        COORD_FLAG = False\n",
    "        DEMAND_FLAG = True\n",
    "    elif \"DEPOT_SECTION\" in line:\n",
    "        DEMAND_FLAG = False\n",
    "        print()\n",
    "    elif COORD_FLAG:\n",
    "        coord = parseCoords(line)\n",
    "        xc.append(coord[0])\n",
    "        yc.append(coord[1])\n",
    "        coords.append(coord)\n",
    "    elif DEMAND_FLAG:\n",
    "        demand = parseDemand(line)\n",
    "        q[demand[0]] = demand[1]\n",
    "fh.close()"
   ]
  },
  {
   "cell_type": "code",
   "execution_count": 4,
   "metadata": {},
   "outputs": [
    {
     "data": {
      "text/plain": [
       "<matplotlib.collections.PathCollection at 0x2c77de1b1c0>"
      ]
     },
     "execution_count": 4,
     "metadata": {},
     "output_type": "execute_result"
    },
    {
     "data": {
      "image/png": "[encoded data removed]",
      "text/plain": [
       "<Figure size 1152x648 with 1 Axes>"
      ]
     },
     "metadata": {
      "needs_background": "light"
     },
     "output_type": "display_data"
    }
   ],
   "source": [
    "plt.rcParams[\"figure.figsize\"] = [16,9]\n",
    "plt.plot(xc[0], yc[0], c='r', marker='s')\n",
    "plt.scatter(xc[1:], yc[1:], c='b')"
   ]
  },
  {
   "cell_type": "code",
   "execution_count": 5,
   "metadata": {},
   "outputs": [],
   "source": [
    "N = [i for i in range(1, n+1)] # Number of clients\n",
    "V = [0] + N # Number of nodes (including depot)\n",
    "A = [(i, j) for i in V for j in V] \n",
    "c = {(i, j): np.hypot(xc[i]-xc[j], yc[i]-yc[j]) for i, j in A} # cost"
   ]
  },
  {
   "cell_type": "markdown",
   "metadata": {},
   "source": [
    "### Callback Definition\n",
    "The following function determines lazy constraints to eliminate sub-tours."
   ]
  },
  {
   "cell_type": "code",
   "execution_count": null,
   "metadata": {},
   "outputs": [],
   "source": []
  },
  {
   "cell_type": "markdown",
   "metadata": {},
   "source": [
    "### Finding A Cycle\n",
    "The following function determines a cycle not connected to the depot."
   ]
  },
  {
   "cell_type": "code",
   "execution_count": 6,
   "metadata": {},
   "outputs": [],
   "source": [
    "# Given a tuplelist of edges, find the shortest subtour\n",
    "\n",
    "def subtour(edges):\n",
    "    nodes = set()\n",
    "    for i,j in edges:\n",
    "        nodes.add(i)\n",
    "        nodes.add(j)\n",
    "    unvisited = list(nodes)\n",
    "    cycle = list(nodes) \n",
    "    while unvisited:  \n",
    "        thiscycle = []\n",
    "        neighbors = unvisited\n",
    "        while neighbors:\n",
    "            current = neighbors[0]\n",
    "            thiscycle.append(current)\n",
    "            unvisited.remove(current)\n",
    "            neighbors = [j for i, j in edges.select(current, '*')\n",
    "                         if j in unvisited]\n",
    "        if len(thiscycle) <= len(cycle):\n",
    "            cycle = thiscycle # New shortest subtour\n",
    "    return cycle"
   ]
  },
  {
   "cell_type": "code",
   "execution_count": 7,
   "metadata": {},
   "outputs": [
    {
     "name": "stdout",
     "output_type": "stream",
     "text": [
      "Restricted license - for non-production use only - expires 2022-01-13\n"
     ]
    }
   ],
   "source": [
    "mdl = Model('CVRP')"
   ]
  },
  {
   "cell_type": "code",
   "execution_count": 8,
   "metadata": {},
   "outputs": [],
   "source": [
    "x = mdl.addVars(A, vtype=GRB.BINARY)\n",
    "u = mdl.addVars(N, vtype=GRB.CONTINUOUS)\n",
    "mdl.update()"
   ]
  },
  {
   "cell_type": "code",
   "execution_count": 9,
   "metadata": {},
   "outputs": [],
   "source": [
    "mdl.modelSense = GRB.MINIMIZE\n",
    "mdl.setObjective(quicksum(c[i, j] * x[i, j] for i, j in A))\n",
    "mdl.update()"
   ]
  },
  {
   "cell_type": "markdown",
   "metadata": {},
   "source": [
    "## Constraint 1"
   ]
  },
  {
   "cell_type": "code",
   "execution_count": 10,
   "metadata": {},
   "outputs": [],
   "source": [
    "mdl.addConstrs(quicksum(x[i, j] for i in V if i != j) == 1 for j in N)\n",
    "mdl.update()"
   ]
  },
  {
   "cell_type": "markdown",
   "metadata": {},
   "source": [
    "## Constraint 2"
   ]
  },
  {
   "cell_type": "code",
   "execution_count": 11,
   "metadata": {},
   "outputs": [],
   "source": [
    "mdl.addConstrs(quicksum(x[i, j] for j in V if j != i) == 1 for i in N)\n",
    "mdl.update()"
   ]
  },
  {
   "cell_type": "markdown",
   "metadata": {},
   "source": [
    "## Constraint 3"
   ]
  },
  {
   "cell_type": "code",
   "execution_count": 12,
   "metadata": {},
   "outputs": [],
   "source": [
    "mdl.addConstr(quicksum(x[i, 0] for i in V) == p)\n",
    "mdl.update()"
   ]
  },
  {
   "cell_type": "markdown",
   "metadata": {},
   "source": [
    "## Constraint 4"
   ]
  },
  {
   "cell_type": "code",
   "execution_count": 13,
   "metadata": {},
   "outputs": [],
   "source": [
    "mdl.addConstr(quicksum(x[0, j] for j in V) == p)\n",
    "mdl.update()"
   ]
  },
  {
   "cell_type": "markdown",
   "metadata": {},
   "source": [
    "## Constraint 5"
   ]
  },
  {
   "cell_type": "code",
   "execution_count": 14,
   "metadata": {},
   "outputs": [],
   "source": [
    "# mdl.addConstrs((x[i, j] == 0) >> (u[i]+q[j] <= u[j]) for i, j in A if i != 0 and j != 0)\n",
    "mdl.addConstrs((u[j] - u[i]) >= (q[j] - Q*(1 - x[i, j])) for i in N for j in N if i != j)\n",
    "mdl.update()"
   ]
  },
  {
   "cell_type": "markdown",
   "metadata": {},
   "source": [
    "## Constraint 6"
   ]
  },
  {
   "cell_type": "code",
   "execution_count": 15,
   "metadata": {},
   "outputs": [],
   "source": [
    "mdl.addConstrs(u[i] >= q[i] for i in N)\n",
    "mdl.addConstrs(u[i] <= Q for i in N)\n",
    "mdl.update()"
   ]
  },
  {
   "cell_type": "code",
   "execution_count": null,
   "metadata": {
    "scrolled": false
   },
   "outputs": [
    {
     "name": "stdout",
     "output_type": "stream",
     "text": [
      "Changed value of parameter MIPGap to 0.1\n",
      "   Prev: 0.0001  Min: 0.0  Max: inf  Default: 0.0001\n",
      "Gurobi Optimizer version 9.1.1 build v9.1.1rc0 (win64)\n",
      "Thread count: 6 physical cores, 12 logical processors, using up to 12 threads\n",
      "Optimize a model with 1122 rows, 1121 columns and 5154 nonzeros\n",
      "Model fingerprint: 0x64967737\n",
      "Variable types: 32 continuous, 1089 integer (1089 binary)\n",
      "Coefficient statistics:\n",
      "  Matrix range     [1e+00, 8e+03]\n",
      "  Objective range  [1e+00, 1e+02]\n",
      "  Bounds range     [1e+00, 1e+00]\n",
      "  RHS range        [1e+00, 8e+03]\n",
      "Presolve removed 64 rows and 32 columns\n",
      "Presolve time: 0.01s\n",
      "Presolved: 1058 rows, 1089 columns, 5090 nonzeros\n",
      "Variable types: 32 continuous, 1057 integer (1057 binary)\n",
      "Found heuristic solution: objective 1890.7731156\n",
      "\n",
      "Root relaxation: objective 5.052303e+02, 110 iterations, 0.00 seconds\n",
      "\n",
      "    Nodes    |    Current Node    |     Objective Bounds      |     Work\n",
      " Expl Unexpl |  Obj  Depth IntInf | Incumbent    BestBd   Gap | It/Node Time\n",
      "\n",
      "     0     0  505.23028    0   59 1890.77312  505.23028  73.3%     -    0s\n",
      "H    0     0                    1784.2239970  505.23028  71.7%     -    0s\n",
      "     0     0  537.18738    0   68 1784.22400  537.18738  69.9%     -    0s\n",
      "H    0     0                    1667.0334202  537.18738  67.8%     -    0s\n",
      "     0     0  537.18738    0   68 1667.03342  537.18738  67.8%     -    0s\n",
      "     0     0  543.05736    0   55 1667.03342  543.05736  67.4%     -    0s\n",
      "H    0     0                    1492.6441001  543.05736  63.6%     -    0s\n",
      "     0     0  543.20837    0   58 1492.64410  543.20837  63.6%     -    0s\n",
      "     0     0  543.20837    0   66 1492.64410  543.20837  63.6%     -    0s\n",
      "H    0     0                    1421.9153328  543.20837  61.8%     -    0s\n",
      "H    0     0                    1031.1109348  543.20837  47.3%     -    0s\n",
      "     0     0  543.20837    0   66 1031.11093  543.20837  47.3%     -    0s\n",
      "     0     0  543.29368    0   68 1031.11093  543.29368  47.3%     -    0s\n",
      "     0     0  543.29368    0   57 1031.11093  543.29368  47.3%     -    0s\n",
      "     0     2  546.10469    0   57 1031.11093  546.10469  47.0%     -    0s\n",
      "H   31    42                    1025.0762762  549.97355  46.3%  18.1    0s\n",
      "H  326   364                     936.0891960  549.97355  41.2%   9.4    0s\n",
      "H  371   370                     928.4140108  549.97355  40.8%   9.7    0s\n",
      "H  372   370                     926.1394033  549.97355  40.6%   9.7    0s\n",
      "H  373   370                     908.2722331  549.97355  39.4%   9.7    0s\n",
      "H  741   746                     901.5176648  549.97355  39.0%   9.8    0s\n",
      "H  742   746                     897.7236939  549.97355  38.7%   9.8    0s\n",
      "H  744   746                     894.0861869  549.97355  38.5%   9.8    0s\n",
      "H 1646  1488                     885.2776976  549.97355  37.9%   9.9    1s\n",
      "H 1647  1414                     883.4687481  549.97355  37.7%   9.9    1s\n",
      "H 1650  1345                     883.2428234  551.17451  37.6%   9.9    1s\n",
      "H 1656  1281                     882.2680680  551.42394  37.5%   9.8    2s\n",
      "H 1660  1219                     882.0421433  551.94392  37.4%   9.8    2s\n",
      "H 1693  1186                     873.4053856  553.50761  36.6%  10.8    3s\n",
      "H 1695  1127                     873.3374861  553.50761  36.6%  10.8    3s\n",
      "H 1729  1097                     867.7797572  553.50761  36.2%  11.2    4s\n",
      "H 1735  1053                     867.0857603  553.50761  36.2%  11.2    4s\n",
      "H 1836  1066                     863.2293981  553.50761  35.9%  12.0    4s\n",
      "  2370  1466  601.18049   76   51  863.22940  553.50761  35.9%  16.3    5s\n",
      " 14651 11690  728.83271  124   22  863.22940  559.18796  35.2%  19.8   10s\n",
      "H14652 11690                     863.2293869  559.18796  35.2%  19.8   10s\n",
      " 25413 21148  713.11673   68   57  863.22939  562.20213  34.9%  21.0   16s\n",
      "H25418 20093                     863.2293661  562.20213  34.9%  21.0   17s\n",
      " 25432 20103  614.89853   33   73  863.22937  562.20213  34.9%  21.0   20s\n",
      "H25432 19097                     849.0791113  562.20213  33.8%  21.0   20s\n",
      " 25445 19105  700.23527  118   68  849.07911  562.20213  33.8%  21.0   25s\n",
      "H25480 18177                     847.1777577  562.20213  33.6%  21.1   27s\n",
      "H25515 17294                     847.0761993  562.20213  33.6%  21.2   27s\n",
      " 26549 17937  765.29254  113   34  847.07620  562.20213  33.6%  21.5   30s\n",
      "H26564 17073                     845.4641085  562.20213  33.5%  21.5   31s\n",
      "H30737 18518                     844.7382213  562.20213  33.4%  22.3   33s\n",
      "H30738 17718                     839.0453290  562.20213  33.0%  22.3   33s\n",
      " 36393 21381  747.53312   92   40  839.04533  564.26103  32.7%  23.0   35s\n",
      "H43819 24064                     837.7053368  567.44766  32.3%  23.2   37s\n",
      " 53734 30007  763.82476  173   49  837.70534  570.51932  31.9%  23.0   40s\n",
      " 74450 43391  642.34965   68   50  837.70534  575.06195  31.4%  22.8   45s\n",
      " 93457 59884  767.21756  153   39  837.70534  577.83722  31.0%  22.6   50s\n",
      "H96780 62385                     837.6978841  578.09087  31.0%  22.6   51s\n",
      "H96781 62353                     836.9794495  578.09087  30.9%  22.6   51s\n",
      " 109456 74315  799.05580  217   41  836.97945  579.55616  30.8%  22.4   55s\n",
      " 131350 93529  680.11408  107   39  836.97945  581.65285  30.5%  22.1   60s\n",
      "H138336 99319                     836.7383244  582.13359  30.4%  21.9   62s\n",
      " 150589 110738  794.35359  197   38  836.73832  583.00727  30.3%  21.7   65s\n",
      " 172506 129949  821.29790   65   25  836.73832  584.45985  30.2%  21.6   70s\n",
      " 192553 147890  670.14982   69   40  836.73832  585.55542  30.0%  21.7   75s\n",
      " 213991 166563  660.47844   94   28  836.73832  586.55180  29.9%  21.6   80s\n",
      " 234997 185239  774.40659  170   19  836.73832  587.38870  29.8%  21.5   85s\n",
      " 255853 203227  654.41396   67   47  836.73832  588.36198  29.7%  21.4   90s\n",
      " 277867 222170  786.76141   77   34  836.73832  588.94823  29.6%  21.3   95s\n",
      " 299974 241817  820.08509   92   33  836.73832  589.54194  29.5%  21.2  100s\n",
      " 319357 258864  668.10994   78   34  836.73832  589.92977  29.5%  21.2  105s\n",
      " 338815 275787  741.59245   93   24  836.73832  590.28473  29.5%  21.2  110s\n",
      " 357865 292523  799.35543  133   22  836.73832  590.70438  29.4%  21.2  115s\n",
      " 377200 309162     cutoff  147       836.73832  591.10659  29.4%  21.1  120s\n",
      " 397571 327161  651.64672   71   52  836.73832  591.49105  29.3%  21.1  125s\n",
      " 416821 343700  738.73919   80   28  836.73832  591.81334  29.3%  21.2  130s\n",
      " 434396 359207  628.36871   68   30  836.73832  592.03490  29.2%  21.2  135s\n",
      " 453538 375109  683.70610   93   55  836.73832  592.36247  29.2%  21.2  140s\n",
      " 471621 391479  625.22586   54   61  836.73832  592.65744  29.2%  21.2  145s\n",
      " 491860 408874  761.60211  142   25  836.73832  592.93756  29.1%  21.2  150s\n",
      " 509925 424954  609.54371   45   59  836.73832  593.18521  29.1%  21.2  155s\n",
      " 529251 441973  626.57828   53   50  836.73832  593.41514  29.1%  21.2  160s\n",
      " 549941 459732  763.92404  103   31  836.73832  593.66546  29.1%  21.2  165s\n",
      " 569283 476730  732.18992   81   34  836.73832  593.90761  29.0%  21.2  170s\n",
      " 589731 494168  663.78065   73   53  836.73832  594.11773  29.0%  21.2  175s\n",
      " 608725 511141  809.99328  145   40  836.73832  594.30376  29.0%  21.2  180s\n",
      " 628241 528344  630.00665   59   28  836.73832  594.51249  28.9%  21.2  185s\n",
      " 644388 542287  802.11641  200   38  836.73832  594.69724  28.9%  21.2  190s\n",
      " 664924 560253  815.93838   67   22  836.73832  594.88901  28.9%  21.2  195s\n",
      " 681865 575228  712.81820  149   29  836.73832  595.03116  28.9%  21.2  200s\n",
      " 701625 592252  641.00904   71   46  836.73832  595.22972  28.9%  21.2  205s\n",
      " 722389 610331  638.67512   77   55  836.73832  595.39727  28.8%  21.2  210s\n",
      " 742062 627744  625.36203   63   33  836.73832  595.55999  28.8%  21.2  215s\n",
      " 760164 643564  644.06298   67   58  836.73832  595.71113  28.8%  21.2  220s\n",
      " 780256 660822  658.11203   89   39  836.73832  595.84258  28.8%  21.1  225s\n",
      " 799227 677544  741.06597   96   31  836.73832  596.00018  28.8%  21.2  230s\n",
      " 820272 695841  778.26095  118   41  836.73832  596.16063  28.8%  21.1  235s\n",
      " 839840 713007  803.12010   89   32  836.73832  596.28630  28.7%  21.1  240s\n",
      " 857023 728045  650.94293   89   40  836.73832  596.39459  28.7%  21.2  245s\n",
      " 875037 743520  699.68266   74   40  836.73832  596.52298  28.7%  21.2  250s\n",
      "H895232 761134                     836.7380784  596.64986  28.7%  21.2  255s\n"
     ]
    },
    {
     "name": "stdout",
     "output_type": "stream",
     "text": [
      " 912936 776829  721.22567   65   40  836.73808  596.75752  28.7%  21.2  260s\n",
      " 932394 793688  650.19611   62   55  836.73808  596.88639  28.7%  21.2  265s\n",
      " 950799 809537  780.72265  141   39  836.73808  597.01071  28.7%  21.2  270s\n",
      " 969482 825818  774.74062  258   35  836.73808  597.09885  28.6%  21.2  275s\n",
      " 987166 841265     cutoff   79       836.73808  597.20451  28.6%  21.1  280s\n",
      "H1004645 855699                     836.7380548  597.30495  28.6%  21.2  284s\n",
      " 1006568 857806  674.11401  134   33  836.73805  597.32532  28.6%  21.1  285s\n",
      "H1009780 860548                     836.7380445  597.34137  28.6%  21.2  286s\n",
      " 1024560 873700  640.02459   58   30  836.73804  597.42671  28.6%  21.2  290s\n",
      " 1042727 889496  818.29648  147   26  836.73804  597.52582  28.6%  21.2  295s\n",
      " 1060216 904714  764.31089  202   39  836.73804  597.62990  28.6%  21.2  300s\n",
      " 1078174 920370  702.42714   88   45  836.73804  597.71308  28.6%  21.2  305s\n",
      " 1095837 935749  698.25028  117   39  836.73804  597.78474  28.6%  21.2  310s\n",
      " 1113504 950945  620.07805   54   55  836.73804  597.87001  28.5%  21.2  315s\n",
      " 1131118 966298  669.54396   83   61  836.73804  597.94415  28.5%  21.2  320s\n",
      " 1145020 978331  727.46945  117   38  836.73804  598.02229  28.5%  21.2  325s\n",
      " 1161763 993405  605.02136   47   57  836.73804  598.09007  28.5%  21.2  330s\n",
      " 1176604 1006196  655.84602   63   28  836.73804  598.15843  28.5%  21.2  335s\n",
      " 1194944 1022060  713.44072   87   44  836.73804  598.23951  28.5%  21.2  340s\n",
      " 1211055 1036266  785.05467  126   36  836.73804  598.30085  28.5%  21.2  345s\n",
      " 1228935 1051934  768.26116  153   38  836.73804  598.37522  28.5%  21.2  350s\n",
      "H1244845 1065248                     836.6719054  598.43857  28.5%  21.2  354s\n",
      " 1246049 1066825  635.92683   73   31  836.67191  598.44273  28.5%  21.2  355s\n",
      "H1261683 1073701                     831.6201685  598.51038  28.0%  21.3  359s\n",
      " 1262143 1074174  735.01377  147   54  831.62017  598.51303  28.0%  21.3  360s\n",
      "H1262792 1073235                     831.1302520  598.51518  28.0%  21.3  360s\n",
      "H1262864 1072317                     830.7109067  598.51518  28.0%  21.3  360s\n",
      " 1278291 1086348  731.40538  176   33  830.71091  598.57976  27.9%  21.3  365s\n",
      " 1295269 1100988  682.34542   80   47  830.71091  598.66125  27.9%  21.3  370s\n",
      " 1312378 1115369     cutoff  141       830.71091  598.73736  27.9%  21.3  375s\n",
      " 1328617 1129390  758.90809  182   24  830.71091  598.81034  27.9%  21.3  380s\n",
      "H1337027 1133720                     829.6208908  598.84512  27.8%  21.3  383s\n",
      " 1344282 1140523  663.02560   85   33  829.62089  598.87631  27.8%  21.3  385s\n",
      " 1360442 1154144  615.54251   55   43  829.62089  598.93677  27.8%  21.4  390s\n",
      "H1374334 1160701                     828.0156498  598.99333  27.7%  21.4  394s\n",
      " 1374335 1161344  609.91971   51   54  828.01565  598.99391  27.7%  21.4  395s\n",
      " 1389323 1174143  675.59687   89   42  828.01565  599.05488  27.7%  21.4  400s\n",
      " 1404995 1187661  614.10021   48   49  828.01565  599.12135  27.6%  21.5  405s\n",
      " 1420532 1200831  780.29114   79   19  828.01565  599.19246  27.6%  21.5  410s\n",
      " 1436313 1214134  755.86668  138   34  828.01565  599.26715  27.6%  21.5  415s\n",
      " 1450433 1225672  725.56519   76   38  828.01565  599.32866  27.6%  21.6  420s\n",
      " 1465481 1237974  825.83711  154   38  828.01565  599.39512  27.6%  21.6  425s\n",
      " 1480154 1250262  805.91982  120   33  828.01565  599.47082  27.6%  21.7  430s\n",
      "H1491453 1254476                     826.5475658  599.51320  27.5%  21.7  434s\n",
      "H1491598 1253458                     826.2389229  599.51320  27.4%  21.7  434s\n",
      " 1491903 1254305 infeasible  103       826.23892  599.51589  27.4%  21.7  435s\n",
      " 1506347 1266155  791.19711  118   26  826.23892  599.58086  27.4%  21.7  440s\n",
      " 1521334 1278474  808.52625  122   24  826.23892  599.63923  27.4%  21.8  445s\n",
      " 1535351 1290281  640.24544   66   45  826.23892  599.69097  27.4%  21.8  450s\n",
      " 1549863 1302143  719.04399   97   33  826.23892  599.75508  27.4%  21.9  455s\n",
      "H1551365 1293204                     823.5183074  599.75893  27.2%  21.9  455s\n",
      "H1551384 1280150                     820.3725067  599.75893  26.9%  21.9  456s\n",
      " 1561360 1288943  816.79607  116   29  820.37251  599.80596  26.9%  21.9  460s\n",
      " 1572867 1298367  756.15517   94   28  820.37251  599.85536  26.9%  21.9  465s\n",
      " 1586666 1309562  698.60882   80   37  820.37251  599.90989  26.9%  22.0  470s\n",
      " 1600255 1320744  650.66885   75   39  820.37251  599.96513  26.9%  22.0  475s\n",
      " 1613756 1331588  627.85974   49   53  820.37251  600.02863  26.9%  22.0  480s\n",
      " 1627362 1342816  775.28452  112   26  820.37251  600.07506  26.9%  22.1  485s\n",
      " 1641896 1354546  685.82001   70   32  820.37251  600.13149  26.8%  22.1  490s\n",
      " 1654586 1364703  723.65954   69   38  820.37251  600.18694  26.8%  22.2  495s\n",
      " 1665502 1373944  808.91161  120   29  820.37251  600.22901  26.8%  22.2  500s\n",
      " 1678797 1384841  610.04187   48   38  820.37251  600.27414  26.8%  22.2  505s\n",
      " 1692734 1396085  673.55442   72   38  820.37251  600.33228  26.8%  22.3  510s\n",
      " 1705918 1406952  801.22758  105   35  820.37251  600.38302  26.8%  22.3  515s\n",
      " 1718905 1417254  681.92785   54   41  820.37251  600.42832  26.8%  22.3  520s\n",
      " 1731963 1428078  683.92623   76   33  820.37251  600.46955  26.8%  22.4  525s\n",
      " 1745323 1438720  718.03675   67   44  820.37251  600.51437  26.8%  22.4  530s\n",
      " 1757134 1448385  757.92226   80   38  820.37251  600.55348  26.8%  22.5  535s\n",
      " 1766722 1455830  675.35009   70   40  820.37251  600.58482  26.8%  22.5  540s\n",
      " 1779380 1466027  684.85806   81   44  820.37251  600.63602  26.8%  22.5  545s\n",
      " 1791873 1476307  760.10301   95   29  820.37251  600.67791  26.8%  22.6  550s\n",
      " 1805298 1486176  606.99727   57   47  820.37251  600.72612  26.8%  22.6  555s\n",
      " 1815048 1494596  702.78461   86   37  820.37251  600.77006  26.8%  22.6  560s\n",
      " 1825005 1502472  752.59990   87   38  820.37251  600.80411  26.8%  22.7  565s\n",
      " 1837731 1512837  720.05466   71   31  820.37251  600.84340  26.8%  22.7  570s\n",
      " 1850299 1523042  769.79595   64   29  820.37251  600.89013  26.8%  22.7  575s\n",
      " 1862429 1533180  735.76400  114   37  820.37251  600.92559  26.7%  22.8  580s\n",
      " 1874652 1542734  716.65385   65   42  820.37251  600.96954  26.7%  22.8  585s\n",
      " 1886741 1552512  636.70097   54   34  820.37251  601.01802  26.7%  22.8  590s\n",
      " 1896841 1560805  816.81555  144   18  820.37251  601.05311  26.7%  22.9  595s\n",
      " 1909208 1570701  652.21555   77   38  820.37251  601.09193  26.7%  22.9  600s\n",
      " 1921838 1580851  713.09380  118   25  820.37251  601.12740  26.7%  22.9  605s\n",
      " 1934921 1591718  676.54083   71   50  820.37251  601.17684  26.7%  23.0  610s\n",
      " 1946690 1600996  654.27732   72   36  820.37251  601.21644  26.7%  23.0  615s\n",
      " 1959255 1611069  745.74227   75   38  820.37251  601.26267  26.7%  23.0  620s\n",
      " 1972605 1621896  625.81440   55   58  820.37251  601.30601  26.7%  23.0  625s\n",
      " 1986118 1632736  651.03334   55   53  820.37251  601.34963  26.7%  23.1  630s\n",
      " 1999013 1643124  810.21923  138   29  820.37251  601.38520  26.7%  23.1  635s\n",
      " 2012310 1653849  730.00215   91   29  820.37251  601.42185  26.7%  23.1  640s\n",
      " 2023803 1663393  672.95650   65   43  820.37251  601.45574  26.7%  23.2  645s\n",
      " 2037693 1674357  643.79885   60   50  820.37251  601.49765  26.7%  23.2  650s\n",
      " 2050354 1684905  792.96238   83   20  820.37251  601.52891  26.7%  23.2  655s\n",
      " 2063059 1695067  730.42367   84   34  820.37251  601.56747  26.7%  23.3  660s\n",
      " 2075912 1705462  613.69528   49   57  820.37251  601.60512  26.7%  23.3  665s\n",
      " 2087471 1714763  750.33430   98   39  820.37251  601.64141  26.7%  23.3  670s\n",
      " 2097427 1722754  817.67820  112   28  820.37251  601.67096  26.7%  23.3  675s\n",
      " 2107624 1730663     cutoff  121       820.37251  601.69480  26.7%  23.4  680s\n",
      " 2121553 1741995  609.64689   49   52  820.37251  601.72993  26.7%  23.4  685s\n"
     ]
    }
   ],
   "source": [
    "mdl.Params.MIPGap = 0.1\n",
    "# mdl.Params.TimeLimit = 540  # seconds\n",
    "mdl.optimize()"
   ]
  },
  {
   "cell_type": "code",
   "execution_count": null,
   "metadata": {},
   "outputs": [],
   "source": [
    "active_arcs = [a for a in A if x[a].x > 0.99]\n",
    "print(active_arcs)"
   ]
  },
  {
   "cell_type": "code",
   "execution_count": null,
   "metadata": {},
   "outputs": [],
   "source": [
    "from itertools import cycle"
   ]
  },
  {
   "cell_type": "code",
   "execution_count": null,
   "metadata": {},
   "outputs": [],
   "source": [
    "# plt.rcParams[\"figure.figsize\"] = [16,9]\n",
    "# count = 0\n",
    "# for i, j in active_arcs:\n",
    "#     if i == 0:\n",
    "#         count = count + 1\n",
    "#     plt.plot([xc[i], xc[j]], [yc[i], yc[j]], c='g', zorder=0)\n",
    "# plt.plot(xc[0], yc[0], c='r', marker='s')\n",
    "# plt.scatter(xc[1:], yc[1:], c='b')\n",
    "# print(count)"
   ]
  },
  {
   "cell_type": "code",
   "execution_count": null,
   "metadata": {
    "scrolled": false
   },
   "outputs": [],
   "source": [
    "plt.rcParams[\"figure.figsize\"] = [16,9]\n",
    "\n",
    "cmap = plt.get_cmap('Paired')\n",
    "colors = [cmap(i) for i in np.linspace(0, 1, p)]\n",
    "color = colors[0]\n",
    "\n",
    "iter_colors = cycle(colors)\n",
    "color = next(iter_colors)\n",
    "\n",
    "count = 0\n",
    "for i, j in active_arcs:\n",
    "    if i == 0:\n",
    "        count = count + 1\n",
    "        color = next(iter_colors)\n",
    "    plt.plot([xc[i], xc[j]], [yc[i], yc[j]], c=color, zorder=0)\n",
    "plt.plot(xc[0], yc[0], c='r', marker='s')\n",
    "plt.scatter(xc[1:], yc[1:], c='b')\n",
    "print(count)"
   ]
  },
  {
   "cell_type": "code",
   "execution_count": null,
   "metadata": {},
   "outputs": [],
   "source": []
  }
 ],
 "metadata": {
  "kernelspec": {
   "display_name": "Python 3",
   "language": "python",
   "name": "python3"
  },
  "language_info": {
   "codemirror_mode": {
    "name": "ipython",
    "version": 3
   },
   "file_extension": ".py",
   "mimetype": "text/x-python",
   "name": "python",
   "nbconvert_exporter": "python",
   "pygments_lexer": "ipython3",
   "version": "3.9.1"
  }
 },
 "nbformat": 4,
 "nbformat_minor": 4
}
